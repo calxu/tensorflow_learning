{
 "cells": [
  {
   "cell_type": "markdown",
   "id": "890753c1-63e7-44af-9f7b-3021f80087ec",
   "metadata": {},
   "source": [
    "# tf.data.Dataset的使用"
   ]
  },
  {
   "cell_type": "code",
   "execution_count": null,
   "id": "68f156bd-04aa-469f-868e-051445f0b909",
   "metadata": {},
   "outputs": [],
   "source": [
    "import tensorflow as tf"
   ]
  },
  {
   "cell_type": "code",
   "execution_count": 3,
   "id": "8a15e994-3f66-41f8-95c4-9a77b8ab3763",
   "metadata": {},
   "outputs": [
    {
     "data": {
      "text/plain": [
       "'2.2.0'"
      ]
     },
     "execution_count": 3,
     "metadata": {},
     "output_type": "execute_result"
    }
   ],
   "source": [
    "tf.__version__ "
   ]
  },
  {
   "cell_type": "markdown",
   "id": "1207b269-d455-4d6b-b4ae-3a1f1dfeeef8",
   "metadata": {},
   "source": [
    "# List 列表数据"
   ]
  },
  {
   "cell_type": "code",
   "execution_count": 4,
   "id": "1a6176b1-5e32-4da4-868b-93eb815583cd",
   "metadata": {},
   "outputs": [],
   "source": [
    "dataset = tf.data.Dataset.from_tensor_slices([1,2,3])"
   ]
  },
  {
   "cell_type": "code",
   "execution_count": 6,
   "id": "b7d7e202-da44-497e-ba27-b8d4f7e3b2c3",
   "metadata": {},
   "outputs": [
    {
     "name": "stdout",
     "output_type": "stream",
     "text": [
      "tf.Tensor(1, shape=(), dtype=int32)\n",
      "tf.Tensor(2, shape=(), dtype=int32)\n",
      "tf.Tensor(3, shape=(), dtype=int32)\n"
     ]
    }
   ],
   "source": [
    "for element in dataset:\n",
    "    print(element)"
   ]
  },
  {
   "cell_type": "markdown",
   "id": "486969e2-8e9c-4c32-b13d-c008b7293890",
   "metadata": {},
   "source": [
    "# Generator生成器"
   ]
  },
  {
   "cell_type": "code",
   "execution_count": 8,
   "id": "ded3e5f9-bcd5-4052-afac-73398c57ddef",
   "metadata": {},
   "outputs": [],
   "source": [
    "import itertools"
   ]
  },
  {
   "cell_type": "code",
   "execution_count": 61,
   "id": "c1019ec7-e202-4292-83c2-e5c092c706dd",
   "metadata": {},
   "outputs": [],
   "source": [
    "def gen():\n",
    "    for i in itertools.count(1):\n",
    "        yield(i, [1] * i)"
   ]
  },
  {
   "cell_type": "code",
   "execution_count": 65,
   "id": "2ac34489-64ba-4b02-b31f-7d5d66dc5f15",
   "metadata": {},
   "outputs": [
    {
     "name": "stdout",
     "output_type": "stream",
     "text": [
      "(1, [1])\n",
      "(2, [1, 1])\n",
      "(3, [1, 1, 1])\n",
      "(4, [1, 1, 1, 1])\n",
      "(5, [1, 1, 1, 1, 1])\n"
     ]
    }
   ],
   "source": [
    "i = 0\n",
    "\n",
    "for e in gen():\n",
    "    print(e)\n",
    "    \n",
    "    i += 1\n",
    "    if i == 5:\n",
    "        break"
   ]
  },
  {
   "cell_type": "code",
   "execution_count": 66,
   "id": "2526e51b-195a-4703-99f6-3e89937dd74e",
   "metadata": {},
   "outputs": [],
   "source": [
    "dataset = tf.data.Dataset.from_generator(\n",
    "    gen, \n",
    "    (tf.int64, tf.int64),\n",
    "    (tf.TensorShape([]), tf.TensorShape([None]))\n",
    ")"
   ]
  },
  {
   "cell_type": "code",
   "execution_count": 67,
   "id": "3f1a3a37-ace2-4260-9356-a691151041fe",
   "metadata": {},
   "outputs": [
    {
     "data": {
      "text/plain": [
       "[(1, array([1])),\n",
       " (2, array([1, 1])),\n",
       " (3, array([1, 1, 1])),\n",
       " (4, array([1, 1, 1, 1])),\n",
       " (5, array([1, 1, 1, 1, 1]))]"
      ]
     },
     "execution_count": 67,
     "metadata": {},
     "output_type": "execute_result"
    }
   ],
   "source": [
    "list(dataset.take(5).as_numpy_iterator())"
   ]
  },
  {
   "cell_type": "markdown",
   "id": "966e6461-e838-400b-ba6c-062c20e844dc",
   "metadata": {},
   "source": [
    "# 文本文件"
   ]
  },
  {
   "cell_type": "code",
   "execution_count": 78,
   "id": "72fed768-934d-466d-b99c-8e82a6fd5d55",
   "metadata": {},
   "outputs": [],
   "source": [
    "import os"
   ]
  },
  {
   "cell_type": "code",
   "execution_count": 99,
   "id": "fae6b9dc-1ef6-4830-8030-e874c3108bf0",
   "metadata": {},
   "outputs": [],
   "source": [
    "parent_dir = 'files'\n",
    "FILE_NAMES = ['cowper.txt', 'derby.txt', 'butler.txt']"
   ]
  },
  {
   "cell_type": "code",
   "execution_count": 100,
   "id": "254cce1a-90ae-4505-90cf-31533f911a9b",
   "metadata": {},
   "outputs": [],
   "source": [
    "def labeler(example, index):\n",
    "    return example, tf.cast(index, tf.int64)"
   ]
  },
  {
   "cell_type": "code",
   "execution_count": 101,
   "id": "e4892446-dc68-4ab8-93dd-4e096d90ad48",
   "metadata": {},
   "outputs": [],
   "source": [
    "labeled_data_sets = []"
   ]
  },
  {
   "cell_type": "code",
   "execution_count": 104,
   "id": "064ac611-8e19-4217-9e1c-b8d083c3dcd7",
   "metadata": {},
   "outputs": [],
   "source": [
    "for i, file_name in enumerate(FILE_NAMES):\n",
    "    lines_dataset = tf.data.TextLineDataset(os.path.join(parent_dir, file_name))\n",
    "    labeled_dataset = lines_dataset.map(lambda ex: labeler(ex, i))\n",
    "    labeled_data_sets.append(labeled_dataset)"
   ]
  },
  {
   "cell_type": "code",
   "execution_count": 109,
   "id": "9067b96c-f910-482c-abc4-637fd39bc3aa",
   "metadata": {},
   "outputs": [
    {
     "data": {
      "text/plain": [
       "[<MapDataset shapes: ((), ()), types: (tf.string, tf.int64)>,\n",
       " <MapDataset shapes: ((), ()), types: (tf.string, tf.int64)>,\n",
       " <MapDataset shapes: ((), ()), types: (tf.string, tf.int64)>,\n",
       " <MapDataset shapes: ((), ()), types: (tf.string, tf.int64)>,\n",
       " <MapDataset shapes: ((), ()), types: (tf.string, tf.int64)>,\n",
       " <MapDataset shapes: ((), ()), types: (tf.string, tf.int64)>]"
      ]
     },
     "execution_count": 109,
     "metadata": {},
     "output_type": "execute_result"
    }
   ],
   "source": [
    "labeled_data_sets"
   ]
  },
  {
   "cell_type": "code",
   "execution_count": 110,
   "id": "066aaf38-7752-4dad-983e-a13326f43ad3",
   "metadata": {},
   "outputs": [],
   "source": [
    "BUFFER_SIZE = 50000\n",
    "BATCH_SIZE = 64\n",
    "TAKE_SIZE = 5000\n",
    "\n",
    "all_labeled_data = labeled_data_sets[0]\n",
    "\n",
    "for labeled_dataset in labeled_data_sets[1:]:\n",
    "    all_labeled_data = all_labeled_data.concatenate(labeled_dataset)\n"
   ]
  },
  {
   "cell_type": "code",
   "execution_count": 113,
   "id": "a2b95564-6353-42ec-b33a-d4d55926b0a3",
   "metadata": {},
   "outputs": [
    {
     "data": {
      "text/plain": [
       "<ConcatenateDataset shapes: ((), ()), types: (tf.string, tf.int64)>"
      ]
     },
     "execution_count": 113,
     "metadata": {},
     "output_type": "execute_result"
    }
   ],
   "source": [
    "all_labeled_data"
   ]
  },
  {
   "cell_type": "code",
   "execution_count": 114,
   "id": "de8bcf82-a983-4699-8578-c4f4f775c49f",
   "metadata": {},
   "outputs": [],
   "source": [
    "all_labeled_data = all_labeled_data.shuffle(\n",
    "    BUFFER_SIZE,\n",
    "    reshuffle_each_iteration = False\n",
    ")"
   ]
  },
  {
   "cell_type": "code",
   "execution_count": null,
   "id": "c400e516-3dfa-4737-9c9c-84c141e8107c",
   "metadata": {},
   "outputs": [],
   "source": []
  },
  {
   "cell_type": "code",
   "execution_count": 115,
   "id": "8cf3903d-a229-4406-baad-dc025518eb67",
   "metadata": {},
   "outputs": [
    {
     "name": "stdout",
     "output_type": "stream",
     "text": [
      "(<tf.Tensor: shape=(), dtype=string, numpy=b'Automedon attending held them fast,'>, <tf.Tensor: shape=(), dtype=int64, numpy=0>)\n",
      "(<tf.Tensor: shape=(), dtype=string, numpy=b\"From Hypereia's or Messeis' fount,\">, <tf.Tensor: shape=(), dtype=int64, numpy=1>)\n",
      "(<tf.Tensor: shape=(), dtype=string, numpy=b'Son of Anthemion, Simoisius, slew;'>, <tf.Tensor: shape=(), dtype=int64, numpy=1>)\n",
      "(<tf.Tensor: shape=(), dtype=string, numpy=b'And swore to him: \"Be witness Jove himself,'>, <tf.Tensor: shape=(), dtype=int64, numpy=1>)\n",
      "(<tf.Tensor: shape=(), dtype=string, numpy=b'By sufferings only, is the part of fools.'>, <tf.Tensor: shape=(), dtype=int64, numpy=0>)\n"
     ]
    }
   ],
   "source": [
    "for ex in all_labeled_data.take(5):\n",
    "    print(ex)"
   ]
  },
  {
   "cell_type": "code",
   "execution_count": null,
   "id": "9dbaee1d-246a-4402-8c55-84a2c5afbfbd",
   "metadata": {},
   "outputs": [],
   "source": []
  },
  {
   "cell_type": "code",
   "execution_count": null,
   "id": "744a905d-2652-4c84-bd8a-500b3f6710c6",
   "metadata": {},
   "outputs": [],
   "source": []
  },
  {
   "cell_type": "code",
   "execution_count": null,
   "id": "f388edd1-47b8-4621-833e-a6e174efb2e3",
   "metadata": {},
   "outputs": [],
   "source": []
  },
  {
   "cell_type": "code",
   "execution_count": null,
   "id": "28489101-3733-456e-ab80-197aaeeb2c86",
   "metadata": {},
   "outputs": [],
   "source": []
  },
  {
   "cell_type": "code",
   "execution_count": null,
   "id": "eb0ff60f-2521-4ce7-afc1-07bb1c1f92ec",
   "metadata": {},
   "outputs": [],
   "source": []
  }
 ],
 "metadata": {
  "kernelspec": {
   "display_name": "Python 3",
   "language": "python",
   "name": "python3"
  },
  "language_info": {
   "codemirror_mode": {
    "name": "ipython",
    "version": 3
   },
   "file_extension": ".py",
   "mimetype": "text/x-python",
   "name": "python",
   "nbconvert_exporter": "python",
   "pygments_lexer": "ipython3",
   "version": "3.8.8"
  }
 },
 "nbformat": 4,
 "nbformat_minor": 5
}
